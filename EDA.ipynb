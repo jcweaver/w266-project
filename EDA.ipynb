{
 "cells": [
  {
   "cell_type": "markdown",
   "id": "9871353a",
   "metadata": {},
   "source": [
    "# Exploratory Analysis"
   ]
  },
  {
   "cell_type": "code",
   "execution_count": 1,
   "id": "5667de72",
   "metadata": {},
   "outputs": [],
   "source": [
    "import pandas as pd\n",
    "import numpy as np\n",
    "import seaborn as sns"
   ]
  },
  {
   "cell_type": "markdown",
   "id": "0921aea3",
   "metadata": {},
   "source": [
    "We're planning to use a few different datasets so first we'll load them all up."
   ]
  },
  {
   "cell_type": "markdown",
   "id": "f259e99f",
   "metadata": {},
   "source": [
    "## Amharic"
   ]
  },
  {
   "cell_type": "code",
   "execution_count": 3,
   "id": "c05a6f05",
   "metadata": {},
   "outputs": [
    {
     "data": {
      "text/html": [
       "<div>\n",
       "<style scoped>\n",
       "    .dataframe tbody tr th:only-of-type {\n",
       "        vertical-align: middle;\n",
       "    }\n",
       "\n",
       "    .dataframe tbody tr th {\n",
       "        vertical-align: top;\n",
       "    }\n",
       "\n",
       "    .dataframe thead th {\n",
       "        text-align: right;\n",
       "    }\n",
       "</style>\n",
       "<table border=\"1\" class=\"dataframe\">\n",
       "  <thead>\n",
       "    <tr style=\"text-align: right;\">\n",
       "      <th></th>\n",
       "      <th>id</th>\n",
       "      <th>tweet</th>\n",
       "      <th>subtask_a</th>\n",
       "    </tr>\n",
       "  </thead>\n",
       "  <tbody>\n",
       "    <tr>\n",
       "      <th>0</th>\n",
       "      <td>0</td>\n",
       "      <td>አስቀድሜ ጥያቄዬ በጨዋነት በውስጥ መስመር እንዲደርስዎ አድርጌ ፍትህን ለ...</td>\n",
       "      <td>NOT</td>\n",
       "    </tr>\n",
       "    <tr>\n",
       "      <th>1</th>\n",
       "      <td>1</td>\n",
       "      <td>እነዚህን ወሳኝ ጉዳዮችን የሚያስፈፅም አካል እንዲቋቋምና ክትትል እንዲደረ...</td>\n",
       "      <td>NOT</td>\n",
       "    </tr>\n",
       "    <tr>\n",
       "      <th>2</th>\n",
       "      <td>2</td>\n",
       "      <td>የአማራ ህዝብ በአእምሮ ክንፉ ያልበረረበት ጥበብና ፍልስፍና ያልከፈተው የ...</td>\n",
       "      <td>NOT</td>\n",
       "    </tr>\n",
       "    <tr>\n",
       "      <th>3</th>\n",
       "      <td>3</td>\n",
       "      <td>ከአማራ ህዝብ የሀገሪቱ ዘርፈ ብዙ እውቀት መንጭቶ የሞላበትከሙላቱም በመል...</td>\n",
       "      <td>NOT</td>\n",
       "    </tr>\n",
       "    <tr>\n",
       "      <th>4</th>\n",
       "      <td>4</td>\n",
       "      <td>ዛሬ በየትኛውም መለኪያ ይሁን መመዘኛ ኢትዮጵያዊነት የሚንፀባረቀው በአማራ...</td>\n",
       "      <td>OFF</td>\n",
       "    </tr>\n",
       "    <tr>\n",
       "      <th>...</th>\n",
       "      <td>...</td>\n",
       "      <td>...</td>\n",
       "      <td>...</td>\n",
       "    </tr>\n",
       "    <tr>\n",
       "      <th>29995</th>\n",
       "      <td>29995</td>\n",
       "      <td>በአሉ የሁሉም ኢትዮጵያዊ ስላልሆነ በኦሮምኛው ቢለፋደድ ምን አገባን</td>\n",
       "      <td>OFF</td>\n",
       "    </tr>\n",
       "    <tr>\n",
       "      <th>29996</th>\n",
       "      <td>29996</td>\n",
       "      <td>ተባረክ አብቹ ፈር ቀዳጅ ስለሆንህ መጋረጃው መቀደድ ስለጀመረ</td>\n",
       "      <td>NOT</td>\n",
       "    </tr>\n",
       "    <tr>\n",
       "      <th>29997</th>\n",
       "      <td>29997</td>\n",
       "      <td>እስከ አሁን አንተ ብቻ ነው በ   መፅሀፍ ያልቻልከው  አንተም ታሪክ እን...</td>\n",
       "      <td>NOT</td>\n",
       "    </tr>\n",
       "    <tr>\n",
       "      <th>29998</th>\n",
       "      <td>29998</td>\n",
       "      <td>ህገወጥት ጠቅላይ ሚንስትር ፅቤት የተፈቀደ ሆኖ ህዝብን እንዴት ህግ አክብ...</td>\n",
       "      <td>OFF</td>\n",
       "    </tr>\n",
       "    <tr>\n",
       "      <th>29999</th>\n",
       "      <td>29999</td>\n",
       "      <td>ደነዙ ጠቅላይ ሚንስትር ፅቤት ህገመንግስት ሳይሻሻል በህግ የተወሰነዉን የ...</td>\n",
       "      <td>OFF</td>\n",
       "    </tr>\n",
       "  </tbody>\n",
       "</table>\n",
       "<p>30000 rows × 3 columns</p>\n",
       "</div>"
      ],
      "text/plain": [
       "          id                                              tweet subtask_a\n",
       "0          0  አስቀድሜ ጥያቄዬ በጨዋነት በውስጥ መስመር እንዲደርስዎ አድርጌ ፍትህን ለ...       NOT\n",
       "1          1  እነዚህን ወሳኝ ጉዳዮችን የሚያስፈፅም አካል እንዲቋቋምና ክትትል እንዲደረ...       NOT\n",
       "2          2  የአማራ ህዝብ በአእምሮ ክንፉ ያልበረረበት ጥበብና ፍልስፍና ያልከፈተው የ...       NOT\n",
       "3          3  ከአማራ ህዝብ የሀገሪቱ ዘርፈ ብዙ እውቀት መንጭቶ የሞላበትከሙላቱም በመል...       NOT\n",
       "4          4  ዛሬ በየትኛውም መለኪያ ይሁን መመዘኛ ኢትዮጵያዊነት የሚንፀባረቀው በአማራ...       OFF\n",
       "...      ...                                                ...       ...\n",
       "29995  29995         በአሉ የሁሉም ኢትዮጵያዊ ስላልሆነ በኦሮምኛው ቢለፋደድ ምን አገባን       OFF\n",
       "29996  29996             ተባረክ አብቹ ፈር ቀዳጅ ስለሆንህ መጋረጃው መቀደድ ስለጀመረ       NOT\n",
       "29997  29997  እስከ አሁን አንተ ብቻ ነው በ   መፅሀፍ ያልቻልከው  አንተም ታሪክ እን...       NOT\n",
       "29998  29998  ህገወጥት ጠቅላይ ሚንስትር ፅቤት የተፈቀደ ሆኖ ህዝብን እንዴት ህግ አክብ...       OFF\n",
       "29999  29999  ደነዙ ጠቅላይ ሚንስትር ፅቤት ህገመንግስት ሳይሻሻል በህግ የተወሰነዉን የ...       OFF\n",
       "\n",
       "[30000 rows x 3 columns]"
      ]
     },
     "execution_count": 3,
     "metadata": {},
     "output_type": "execute_result"
    }
   ],
   "source": [
    "#load Amharic dataset\n",
    "\n",
    "amharic = pd.read_csv('data/Amharic/amharic.csv')\n",
    "amharic"
   ]
  },
  {
   "cell_type": "code",
   "execution_count": 5,
   "id": "8734e8b7",
   "metadata": {},
   "outputs": [
    {
     "data": {
      "text/plain": [
       "(25097,)"
      ]
     },
     "execution_count": 5,
     "metadata": {},
     "output_type": "execute_result"
    }
   ],
   "source": [
    "np.unique(amharic.tweet).shape"
   ]
  },
  {
   "cell_type": "markdown",
   "id": "ef352f7d",
   "metadata": {},
   "source": [
    "While there are 30,000 tweets, only 25,097 are unique."
   ]
  },
  {
   "cell_type": "code",
   "execution_count": 10,
   "id": "a5669798",
   "metadata": {},
   "outputs": [
    {
     "data": {
      "text/plain": [
       "OFF    15198\n",
       "NOT    14802\n",
       "Name: subtask_a, dtype: int64"
      ]
     },
     "execution_count": 10,
     "metadata": {},
     "output_type": "execute_result"
    }
   ],
   "source": [
    "amharic.subtask_a.value_counts()"
   ]
  },
  {
   "cell_type": "markdown",
   "id": "0b9e977d",
   "metadata": {},
   "source": [
    "There are roughly equal numbers of offensive vs. not tweets."
   ]
  },
  {
   "cell_type": "markdown",
   "id": "6962fd5c",
   "metadata": {},
   "source": [
    "## English"
   ]
  },
  {
   "cell_type": "code",
   "execution_count": 12,
   "id": "4bbd2aa4",
   "metadata": {},
   "outputs": [
    {
     "data": {
      "text/html": [
       "<div>\n",
       "<style scoped>\n",
       "    .dataframe tbody tr th:only-of-type {\n",
       "        vertical-align: middle;\n",
       "    }\n",
       "\n",
       "    .dataframe tbody tr th {\n",
       "        vertical-align: top;\n",
       "    }\n",
       "\n",
       "    .dataframe thead th {\n",
       "        text-align: right;\n",
       "    }\n",
       "</style>\n",
       "<table border=\"1\" class=\"dataframe\">\n",
       "  <thead>\n",
       "    <tr style=\"text-align: right;\">\n",
       "      <th></th>\n",
       "      <th>id</th>\n",
       "      <th>tweet</th>\n",
       "      <th>subtask_a</th>\n",
       "      <th>subtask_b</th>\n",
       "      <th>subtask_c</th>\n",
       "    </tr>\n",
       "  </thead>\n",
       "  <tbody>\n",
       "    <tr>\n",
       "      <th>0</th>\n",
       "      <td>86426</td>\n",
       "      <td>@USER She should ask a few native Americans wh...</td>\n",
       "      <td>OFF</td>\n",
       "      <td>UNT</td>\n",
       "      <td>NaN</td>\n",
       "    </tr>\n",
       "    <tr>\n",
       "      <th>1</th>\n",
       "      <td>90194</td>\n",
       "      <td>@USER @USER Go home you’re drunk!!! @USER #MAG...</td>\n",
       "      <td>OFF</td>\n",
       "      <td>TIN</td>\n",
       "      <td>IND</td>\n",
       "    </tr>\n",
       "    <tr>\n",
       "      <th>2</th>\n",
       "      <td>16820</td>\n",
       "      <td>Amazon is investigating Chinese employees who ...</td>\n",
       "      <td>NOT</td>\n",
       "      <td>NaN</td>\n",
       "      <td>NaN</td>\n",
       "    </tr>\n",
       "    <tr>\n",
       "      <th>3</th>\n",
       "      <td>62688</td>\n",
       "      <td>@USER Someone should'veTaken\" this piece of sh...</td>\n",
       "      <td>OFF</td>\n",
       "      <td>UNT</td>\n",
       "      <td>NaN</td>\n",
       "    </tr>\n",
       "    <tr>\n",
       "      <th>4</th>\n",
       "      <td>43605</td>\n",
       "      <td>@USER @USER Obama wanted liberals &amp;amp; illega...</td>\n",
       "      <td>NOT</td>\n",
       "      <td>NaN</td>\n",
       "      <td>NaN</td>\n",
       "    </tr>\n",
       "    <tr>\n",
       "      <th>...</th>\n",
       "      <td>...</td>\n",
       "      <td>...</td>\n",
       "      <td>...</td>\n",
       "      <td>...</td>\n",
       "      <td>...</td>\n",
       "    </tr>\n",
       "    <tr>\n",
       "      <th>13235</th>\n",
       "      <td>95338</td>\n",
       "      <td>@USER Sometimes I get strong vibes from people...</td>\n",
       "      <td>OFF</td>\n",
       "      <td>TIN</td>\n",
       "      <td>IND</td>\n",
       "    </tr>\n",
       "    <tr>\n",
       "      <th>13236</th>\n",
       "      <td>67210</td>\n",
       "      <td>Benidorm ✅  Creamfields ✅  Maga ✅   Not too sh...</td>\n",
       "      <td>NOT</td>\n",
       "      <td>NaN</td>\n",
       "      <td>NaN</td>\n",
       "    </tr>\n",
       "    <tr>\n",
       "      <th>13237</th>\n",
       "      <td>82921</td>\n",
       "      <td>@USER And why report this garbage.  We don't g...</td>\n",
       "      <td>OFF</td>\n",
       "      <td>TIN</td>\n",
       "      <td>OTH</td>\n",
       "    </tr>\n",
       "    <tr>\n",
       "      <th>13238</th>\n",
       "      <td>27429</td>\n",
       "      <td>@USER Pussy</td>\n",
       "      <td>OFF</td>\n",
       "      <td>UNT</td>\n",
       "      <td>NaN</td>\n",
       "    </tr>\n",
       "    <tr>\n",
       "      <th>13239</th>\n",
       "      <td>46552</td>\n",
       "      <td>#Spanishrevenge vs. #justice #HumanRights and ...</td>\n",
       "      <td>NOT</td>\n",
       "      <td>NaN</td>\n",
       "      <td>NaN</td>\n",
       "    </tr>\n",
       "  </tbody>\n",
       "</table>\n",
       "<p>13240 rows × 5 columns</p>\n",
       "</div>"
      ],
      "text/plain": [
       "          id                                              tweet subtask_a  \\\n",
       "0      86426  @USER She should ask a few native Americans wh...       OFF   \n",
       "1      90194  @USER @USER Go home you’re drunk!!! @USER #MAG...       OFF   \n",
       "2      16820  Amazon is investigating Chinese employees who ...       NOT   \n",
       "3      62688  @USER Someone should'veTaken\" this piece of sh...       OFF   \n",
       "4      43605  @USER @USER Obama wanted liberals &amp; illega...       NOT   \n",
       "...      ...                                                ...       ...   \n",
       "13235  95338  @USER Sometimes I get strong vibes from people...       OFF   \n",
       "13236  67210  Benidorm ✅  Creamfields ✅  Maga ✅   Not too sh...       NOT   \n",
       "13237  82921  @USER And why report this garbage.  We don't g...       OFF   \n",
       "13238  27429                                        @USER Pussy       OFF   \n",
       "13239  46552  #Spanishrevenge vs. #justice #HumanRights and ...       NOT   \n",
       "\n",
       "      subtask_b subtask_c  \n",
       "0           UNT       NaN  \n",
       "1           TIN       IND  \n",
       "2           NaN       NaN  \n",
       "3           UNT       NaN  \n",
       "4           NaN       NaN  \n",
       "...         ...       ...  \n",
       "13235       TIN       IND  \n",
       "13236       NaN       NaN  \n",
       "13237       TIN       OTH  \n",
       "13238       UNT       NaN  \n",
       "13239       NaN       NaN  \n",
       "\n",
       "[13240 rows x 5 columns]"
      ]
     },
     "execution_count": 12,
     "metadata": {},
     "output_type": "execute_result"
    }
   ],
   "source": [
    "english = pd.read_csv(\"data/olid/olid-training-v1.0.tsv\", sep =\"\\t\")\n",
    "english"
   ]
  },
  {
   "cell_type": "markdown",
   "id": "1d3519d8",
   "metadata": {},
   "source": [
    "np.unique(english.tweet).shape"
   ]
  },
  {
   "cell_type": "markdown",
   "id": "e97fc274",
   "metadata": {},
   "source": [
    "Out of 13,240 tweets total, only 13,207 are unique."
   ]
  },
  {
   "cell_type": "code",
   "execution_count": 15,
   "id": "18ab9751",
   "metadata": {},
   "outputs": [
    {
     "data": {
      "text/plain": [
       "NOT    8840\n",
       "OFF    4400\n",
       "Name: subtask_a, dtype: int64"
      ]
     },
     "execution_count": 15,
     "metadata": {},
     "output_type": "execute_result"
    }
   ],
   "source": [
    "english.subtask_a.value_counts()"
   ]
  },
  {
   "cell_type": "markdown",
   "id": "7aed8e6c",
   "metadata": {},
   "source": [
    "There are about double as many tweets that are not offensive than offensive."
   ]
  },
  {
   "cell_type": "markdown",
   "id": "0fbdd890",
   "metadata": {},
   "source": [
    "## Danish"
   ]
  },
  {
   "cell_type": "code",
   "execution_count": 16,
   "id": "fd6deda5",
   "metadata": {},
   "outputs": [
    {
     "data": {
      "text/html": [
       "<div>\n",
       "<style scoped>\n",
       "    .dataframe tbody tr th:only-of-type {\n",
       "        vertical-align: middle;\n",
       "    }\n",
       "\n",
       "    .dataframe tbody tr th {\n",
       "        vertical-align: top;\n",
       "    }\n",
       "\n",
       "    .dataframe thead th {\n",
       "        text-align: right;\n",
       "    }\n",
       "</style>\n",
       "<table border=\"1\" class=\"dataframe\">\n",
       "  <thead>\n",
       "    <tr style=\"text-align: right;\">\n",
       "      <th></th>\n",
       "      <th>id</th>\n",
       "      <th>tweet</th>\n",
       "      <th>subtask_a</th>\n",
       "    </tr>\n",
       "  </thead>\n",
       "  <tbody>\n",
       "    <tr>\n",
       "      <th>0</th>\n",
       "      <td>1349</td>\n",
       "      <td>Top tier meme</td>\n",
       "      <td>NOT</td>\n",
       "    </tr>\n",
       "    <tr>\n",
       "      <th>1</th>\n",
       "      <td>1135</td>\n",
       "      <td>Der gik vist lidt for meget viking i den laban...</td>\n",
       "      <td>NOT</td>\n",
       "    </tr>\n",
       "    <tr>\n",
       "      <th>2</th>\n",
       "      <td>1248</td>\n",
       "      <td>Nu synes Jamil nok ikke det er så sjovt længer...</td>\n",
       "      <td>NOT</td>\n",
       "    </tr>\n",
       "    <tr>\n",
       "      <th>3</th>\n",
       "      <td>301</td>\n",
       "      <td>Kæft det er sejt. Jeg droppede selv pot da jeg...</td>\n",
       "      <td>OFF</td>\n",
       "    </tr>\n",
       "    <tr>\n",
       "      <th>4</th>\n",
       "      <td>1165</td>\n",
       "      <td>Å det' ær Frajasaaaal! Å det' ær Frajasaaaaal!...</td>\n",
       "      <td>NOT</td>\n",
       "    </tr>\n",
       "    <tr>\n",
       "      <th>...</th>\n",
       "      <td>...</td>\n",
       "      <td>...</td>\n",
       "      <td>...</td>\n",
       "    </tr>\n",
       "    <tr>\n",
       "      <th>2363</th>\n",
       "      <td>1066</td>\n",
       "      <td>@USER så må hun squ da lære at lave ordentlig ...</td>\n",
       "      <td>NOT</td>\n",
       "    </tr>\n",
       "    <tr>\n",
       "      <th>2364</th>\n",
       "      <td>2368</td>\n",
       "      <td>[Tråd på /r/SWARJE ](URL</td>\n",
       "      <td>NOT</td>\n",
       "    </tr>\n",
       "    <tr>\n",
       "      <th>2365</th>\n",
       "      <td>2875</td>\n",
       "      <td>Har de stået i kø i 2 TIMER og så er de mest p...</td>\n",
       "      <td>NOT</td>\n",
       "    </tr>\n",
       "    <tr>\n",
       "      <th>2366</th>\n",
       "      <td>911</td>\n",
       "      <td>Lige til /r/NorwayPics - dagens subreddit :D</td>\n",
       "      <td>NOT</td>\n",
       "    </tr>\n",
       "    <tr>\n",
       "      <th>2367</th>\n",
       "      <td>121</td>\n",
       "      <td>Du og mig begge! DANMARK FORTJÆNER DE UPVOTES!!</td>\n",
       "      <td>NOT</td>\n",
       "    </tr>\n",
       "  </tbody>\n",
       "</table>\n",
       "<p>2368 rows × 3 columns</p>\n",
       "</div>"
      ],
      "text/plain": [
       "        id                                              tweet subtask_a\n",
       "0     1349                                      Top tier meme       NOT\n",
       "1     1135  Der gik vist lidt for meget viking i den laban...       NOT\n",
       "2     1248  Nu synes Jamil nok ikke det er så sjovt længer...       NOT\n",
       "3      301  Kæft det er sejt. Jeg droppede selv pot da jeg...       OFF\n",
       "4     1165  Å det' ær Frajasaaaal! Å det' ær Frajasaaaaal!...       NOT\n",
       "...    ...                                                ...       ...\n",
       "2363  1066  @USER så må hun squ da lære at lave ordentlig ...       NOT\n",
       "2364  2368                           [Tråd på /r/SWARJE ](URL       NOT\n",
       "2365  2875  Har de stået i kø i 2 TIMER og så er de mest p...       NOT\n",
       "2366   911       Lige til /r/NorwayPics - dagens subreddit :D       NOT\n",
       "2367   121    Du og mig begge! DANMARK FORTJÆNER DE UPVOTES!!       NOT\n",
       "\n",
       "[2368 rows x 3 columns]"
      ]
     },
     "execution_count": 16,
     "metadata": {},
     "output_type": "execute_result"
    }
   ],
   "source": [
    "danish = pd.read_csv('data/Danish/train.tsv', delimiter='\\t')\n",
    "danish"
   ]
  },
  {
   "cell_type": "code",
   "execution_count": 17,
   "id": "1b9e4368",
   "metadata": {},
   "outputs": [
    {
     "data": {
      "text/plain": [
       "(2325,)"
      ]
     },
     "execution_count": 17,
     "metadata": {},
     "output_type": "execute_result"
    }
   ],
   "source": [
    "np.unique(danish.tweet).shape"
   ]
  },
  {
   "cell_type": "markdown",
   "id": "06d90c47",
   "metadata": {},
   "source": [
    "Out of 2,368 tweets, only 2,325 are unique."
   ]
  },
  {
   "cell_type": "code",
   "execution_count": 18,
   "id": "8611d487",
   "metadata": {},
   "outputs": [
    {
     "data": {
      "text/plain": [
       "NOT    2061\n",
       "OFF     307\n",
       "Name: subtask_a, dtype: int64"
      ]
     },
     "execution_count": 18,
     "metadata": {},
     "output_type": "execute_result"
    }
   ],
   "source": [
    "danish.subtask_a.value_counts()"
   ]
  },
  {
   "cell_type": "markdown",
   "id": "2bd85d7f",
   "metadata": {},
   "source": [
    "Only 307/2368 or 13% of tweets are labelled offensive."
   ]
  },
  {
   "cell_type": "markdown",
   "id": "98a82a5f",
   "metadata": {},
   "source": [
    "## Turkish"
   ]
  },
  {
   "cell_type": "code",
   "execution_count": 19,
   "id": "b35ab935",
   "metadata": {},
   "outputs": [
    {
     "data": {
      "text/html": [
       "<div>\n",
       "<style scoped>\n",
       "    .dataframe tbody tr th:only-of-type {\n",
       "        vertical-align: middle;\n",
       "    }\n",
       "\n",
       "    .dataframe tbody tr th {\n",
       "        vertical-align: top;\n",
       "    }\n",
       "\n",
       "    .dataframe thead th {\n",
       "        text-align: right;\n",
       "    }\n",
       "</style>\n",
       "<table border=\"1\" class=\"dataframe\">\n",
       "  <thead>\n",
       "    <tr style=\"text-align: right;\">\n",
       "      <th></th>\n",
       "      <th>id</th>\n",
       "      <th>tweet</th>\n",
       "      <th>subtask_a</th>\n",
       "    </tr>\n",
       "  </thead>\n",
       "  <tbody>\n",
       "    <tr>\n",
       "      <th>0</th>\n",
       "      <td>25210</td>\n",
       "      <td>Okul senden de nefret ediyorum,erken uyanmak s...</td>\n",
       "      <td>NOT</td>\n",
       "    </tr>\n",
       "    <tr>\n",
       "      <th>1</th>\n",
       "      <td>16558</td>\n",
       "      <td>Muhalefetin\"vaat\"diye sunduğu bir AkParti icra...</td>\n",
       "      <td>OFF</td>\n",
       "    </tr>\n",
       "    <tr>\n",
       "      <th>2</th>\n",
       "      <td>22028</td>\n",
       "      <td>@USER sadık bir arkadaş on bin akrabaya bedeld...</td>\n",
       "      <td>NOT</td>\n",
       "    </tr>\n",
       "    <tr>\n",
       "      <th>3</th>\n",
       "      <td>15908</td>\n",
       "      <td>@USER  çok teşekkürler,kurum hizmetiyle alakal...</td>\n",
       "      <td>NOT</td>\n",
       "    </tr>\n",
       "    <tr>\n",
       "      <th>4</th>\n",
       "      <td>10913</td>\n",
       "      <td>Hafta içinden daha yorucu bir #Haftasonu geçir...</td>\n",
       "      <td>NOT</td>\n",
       "    </tr>\n",
       "    <tr>\n",
       "      <th>...</th>\n",
       "      <td>...</td>\n",
       "      <td>...</td>\n",
       "      <td>...</td>\n",
       "    </tr>\n",
       "    <tr>\n",
       "      <th>25399</th>\n",
       "      <td>34774</td>\n",
       "      <td>Bitcoin almadan önce bunu izleyin</td>\n",
       "      <td>NOT</td>\n",
       "    </tr>\n",
       "    <tr>\n",
       "      <th>25400</th>\n",
       "      <td>14315</td>\n",
       "      <td>@USER Bi günaydın bu kadar kıymetli olamaaazz :/</td>\n",
       "      <td>NOT</td>\n",
       "    </tr>\n",
       "    <tr>\n",
       "      <th>25401</th>\n",
       "      <td>16199</td>\n",
       "      <td>@USER Günüme güneş gibi doğdunuz yine 🌞🌞</td>\n",
       "      <td>NOT</td>\n",
       "    </tr>\n",
       "    <tr>\n",
       "      <th>25402</th>\n",
       "      <td>45212</td>\n",
       "      <td>@USER Evlenen nişanlananlar bir başarı elde et...</td>\n",
       "      <td>NOT</td>\n",
       "    </tr>\n",
       "    <tr>\n",
       "      <th>25403</th>\n",
       "      <td>41585</td>\n",
       "      <td>Yeniyim takip ve dm atar mısınız</td>\n",
       "      <td>NOT</td>\n",
       "    </tr>\n",
       "  </tbody>\n",
       "</table>\n",
       "<p>25404 rows × 3 columns</p>\n",
       "</div>"
      ],
      "text/plain": [
       "          id                                              tweet subtask_a\n",
       "0      25210  Okul senden de nefret ediyorum,erken uyanmak s...       NOT\n",
       "1      16558  Muhalefetin\"vaat\"diye sunduğu bir AkParti icra...       OFF\n",
       "2      22028  @USER sadık bir arkadaş on bin akrabaya bedeld...       NOT\n",
       "3      15908  @USER  çok teşekkürler,kurum hizmetiyle alakal...       NOT\n",
       "4      10913  Hafta içinden daha yorucu bir #Haftasonu geçir...       NOT\n",
       "...      ...                                                ...       ...\n",
       "25399  34774                  Bitcoin almadan önce bunu izleyin       NOT\n",
       "25400  14315   @USER Bi günaydın bu kadar kıymetli olamaaazz :/       NOT\n",
       "25401  16199           @USER Günüme güneş gibi doğdunuz yine 🌞🌞       NOT\n",
       "25402  45212  @USER Evlenen nişanlananlar bir başarı elde et...       NOT\n",
       "25403  41585                   Yeniyim takip ve dm atar mısınız       NOT\n",
       "\n",
       "[25404 rows x 3 columns]"
      ]
     },
     "execution_count": 19,
     "metadata": {},
     "output_type": "execute_result"
    }
   ],
   "source": [
    "turkish = pd.read_csv(\"data/Turkish/train.tsv\", sep= \"\\t\")\n",
    "turkish"
   ]
  },
  {
   "cell_type": "code",
   "execution_count": 20,
   "id": "873c499f",
   "metadata": {},
   "outputs": [
    {
     "data": {
      "text/plain": [
       "(25395,)"
      ]
     },
     "execution_count": 20,
     "metadata": {},
     "output_type": "execute_result"
    }
   ],
   "source": [
    "np.unique(turkish.tweet).shape"
   ]
  },
  {
   "cell_type": "markdown",
   "id": "b4094867",
   "metadata": {},
   "source": [
    "25,395 out of 25,404 tweets are unique."
   ]
  },
  {
   "cell_type": "code",
   "execution_count": 21,
   "id": "dba0cfcf",
   "metadata": {},
   "outputs": [
    {
     "data": {
      "text/plain": [
       "NOT    20499\n",
       "OFF     4905\n",
       "Name: subtask_a, dtype: int64"
      ]
     },
     "execution_count": 21,
     "metadata": {},
     "output_type": "execute_result"
    }
   ],
   "source": [
    "turkish.subtask_a.value_counts()"
   ]
  },
  {
   "cell_type": "markdown",
   "id": "6f16208c",
   "metadata": {},
   "source": [
    "Only 4905/25404 = 19.3% total tweets are labeled as offensive."
   ]
  },
  {
   "cell_type": "markdown",
   "id": "5148ebb8",
   "metadata": {},
   "source": [
    "## Greek"
   ]
  },
  {
   "cell_type": "code",
   "execution_count": 22,
   "id": "27ce2e55",
   "metadata": {},
   "outputs": [
    {
     "data": {
      "text/html": [
       "<div>\n",
       "<style scoped>\n",
       "    .dataframe tbody tr th:only-of-type {\n",
       "        vertical-align: middle;\n",
       "    }\n",
       "\n",
       "    .dataframe tbody tr th {\n",
       "        vertical-align: top;\n",
       "    }\n",
       "\n",
       "    .dataframe thead th {\n",
       "        text-align: right;\n",
       "    }\n",
       "</style>\n",
       "<table border=\"1\" class=\"dataframe\">\n",
       "  <thead>\n",
       "    <tr style=\"text-align: right;\">\n",
       "      <th></th>\n",
       "      <th>id</th>\n",
       "      <th>tweet</th>\n",
       "      <th>subtask_a</th>\n",
       "    </tr>\n",
       "  </thead>\n",
       "  <tbody>\n",
       "    <tr>\n",
       "      <th>0</th>\n",
       "      <td>8573</td>\n",
       "      <td>Θα σου βεβήλωνα το ΚΑΦΑΟ ρε #κυρανακης αλλά θα...</td>\n",
       "      <td>OFF</td>\n",
       "    </tr>\n",
       "    <tr>\n",
       "      <th>1</th>\n",
       "      <td>8756</td>\n",
       "      <td>σιγα Ηλιαννα εμετο θα κανουμε με τοση καλοσυνη...</td>\n",
       "      <td>NOT</td>\n",
       "    </tr>\n",
       "    <tr>\n",
       "      <th>2</th>\n",
       "      <td>6162</td>\n",
       "      <td>Με νοιαζει πιο πολυ η κοτα... να ειναι στο φου...</td>\n",
       "      <td>NOT</td>\n",
       "    </tr>\n",
       "    <tr>\n",
       "      <th>3</th>\n",
       "      <td>5373</td>\n",
       "      <td>νομίζω πιο άσχημες από τη μαρτίνα και την ασημ...</td>\n",
       "      <td>OFF</td>\n",
       "    </tr>\n",
       "    <tr>\n",
       "      <th>4</th>\n",
       "      <td>8547</td>\n",
       "      <td>Μαρια πλακωσε ατο ξυλο την Σουζανα!#GNTMgr</td>\n",
       "      <td>NOT</td>\n",
       "    </tr>\n",
       "    <tr>\n",
       "      <th>...</th>\n",
       "      <td>...</td>\n",
       "      <td>...</td>\n",
       "      <td>...</td>\n",
       "    </tr>\n",
       "    <tr>\n",
       "      <th>6989</th>\n",
       "      <td>3538</td>\n",
       "      <td>@USER Δεν εύχομαι σε κανέναν (εκτός από τους μ...</td>\n",
       "      <td>OFF</td>\n",
       "    </tr>\n",
       "    <tr>\n",
       "      <th>6990</th>\n",
       "      <td>5107</td>\n",
       "      <td>Σκασε αννα #gntmgr</td>\n",
       "      <td>NOT</td>\n",
       "    </tr>\n",
       "    <tr>\n",
       "      <th>6991</th>\n",
       "      <td>3211</td>\n",
       "      <td>@USER ειπαμε......εσυ εισαι πτυχιουχος......στ...</td>\n",
       "      <td>OFF</td>\n",
       "    </tr>\n",
       "    <tr>\n",
       "      <th>6992</th>\n",
       "      <td>2807</td>\n",
       "      <td>Εμαθα τωρα ενα σποιλ και θελω να βρισω τον Μπε...</td>\n",
       "      <td>NOT</td>\n",
       "    </tr>\n",
       "    <tr>\n",
       "      <th>6993</th>\n",
       "      <td>857</td>\n",
       "      <td>Κάποιο βράδι μου είχες πει είσαι η μόνη επιλογή</td>\n",
       "      <td>NOT</td>\n",
       "    </tr>\n",
       "  </tbody>\n",
       "</table>\n",
       "<p>6994 rows × 3 columns</p>\n",
       "</div>"
      ],
      "text/plain": [
       "        id                                              tweet subtask_a\n",
       "0     8573  Θα σου βεβήλωνα το ΚΑΦΑΟ ρε #κυρανακης αλλά θα...       OFF\n",
       "1     8756  σιγα Ηλιαννα εμετο θα κανουμε με τοση καλοσυνη...       NOT\n",
       "2     6162  Με νοιαζει πιο πολυ η κοτα... να ειναι στο φου...       NOT\n",
       "3     5373  νομίζω πιο άσχημες από τη μαρτίνα και την ασημ...       OFF\n",
       "4     8547         Μαρια πλακωσε ατο ξυλο την Σουζανα!#GNTMgr       NOT\n",
       "...    ...                                                ...       ...\n",
       "6989  3538  @USER Δεν εύχομαι σε κανέναν (εκτός από τους μ...       OFF\n",
       "6990  5107                                 Σκασε αννα #gntmgr       NOT\n",
       "6991  3211  @USER ειπαμε......εσυ εισαι πτυχιουχος......στ...       OFF\n",
       "6992  2807  Εμαθα τωρα ενα σποιλ και θελω να βρισω τον Μπε...       NOT\n",
       "6993   857    Κάποιο βράδι μου είχες πει είσαι η μόνη επιλογή       NOT\n",
       "\n",
       "[6994 rows x 3 columns]"
      ]
     },
     "execution_count": 22,
     "metadata": {},
     "output_type": "execute_result"
    }
   ],
   "source": [
    "greek = pd.read_csv('data/Greek/train.tsv', sep='\\t')\n",
    "greek"
   ]
  },
  {
   "cell_type": "code",
   "execution_count": 23,
   "id": "b36593c8",
   "metadata": {},
   "outputs": [
    {
     "data": {
      "text/plain": [
       "(6994,)"
      ]
     },
     "execution_count": 23,
     "metadata": {},
     "output_type": "execute_result"
    }
   ],
   "source": [
    "np.unique(greek.tweet).shape"
   ]
  },
  {
   "cell_type": "markdown",
   "id": "76de5e89",
   "metadata": {},
   "source": [
    "All of the tweets in this dataset are unique."
   ]
  },
  {
   "cell_type": "code",
   "execution_count": 24,
   "id": "ee2378a4",
   "metadata": {},
   "outputs": [
    {
     "data": {
      "text/plain": [
       "NOT    5005\n",
       "OFF    1989\n",
       "Name: subtask_a, dtype: int64"
      ]
     },
     "execution_count": 24,
     "metadata": {},
     "output_type": "execute_result"
    }
   ],
   "source": [
    "greek.subtask_a.value_counts()"
   ]
  },
  {
   "cell_type": "markdown",
   "id": "e0de8313",
   "metadata": {},
   "source": [
    "Only 1989/6994 = 28.4% of the total tweets are labelled as offensive."
   ]
  },
  {
   "cell_type": "markdown",
   "id": "984e4136",
   "metadata": {},
   "source": [
    "## Arabic"
   ]
  },
  {
   "cell_type": "code",
   "execution_count": 25,
   "id": "51927d57",
   "metadata": {},
   "outputs": [
    {
     "data": {
      "text/html": [
       "<div>\n",
       "<style scoped>\n",
       "    .dataframe tbody tr th:only-of-type {\n",
       "        vertical-align: middle;\n",
       "    }\n",
       "\n",
       "    .dataframe tbody tr th {\n",
       "        vertical-align: top;\n",
       "    }\n",
       "\n",
       "    .dataframe thead th {\n",
       "        text-align: right;\n",
       "    }\n",
       "</style>\n",
       "<table border=\"1\" class=\"dataframe\">\n",
       "  <thead>\n",
       "    <tr style=\"text-align: right;\">\n",
       "      <th></th>\n",
       "      <th>id</th>\n",
       "      <th>tweet</th>\n",
       "      <th>subtask_a</th>\n",
       "    </tr>\n",
       "  </thead>\n",
       "  <tbody>\n",
       "    <tr>\n",
       "      <th>0</th>\n",
       "      <td>1</td>\n",
       "      <td>الحمدلله يارب فوز مهم يا زمالك.. كل الدعم ليكم...</td>\n",
       "      <td>NOT</td>\n",
       "    </tr>\n",
       "    <tr>\n",
       "      <th>1</th>\n",
       "      <td>2</td>\n",
       "      <td>فدوه يا بخت فدوه يا زمن واحد منكم يجيبه</td>\n",
       "      <td>NOT</td>\n",
       "    </tr>\n",
       "    <tr>\n",
       "      <th>2</th>\n",
       "      <td>3</td>\n",
       "      <td>RT @USER: يا رب يا واحد يا أحد بحق يوم الاحد ا...</td>\n",
       "      <td>OFF</td>\n",
       "    </tr>\n",
       "    <tr>\n",
       "      <th>3</th>\n",
       "      <td>4</td>\n",
       "      <td>RT @USER: #هوا_الحرية يا وجع قلبي عليكي يا امي...</td>\n",
       "      <td>NOT</td>\n",
       "    </tr>\n",
       "    <tr>\n",
       "      <th>4</th>\n",
       "      <td>5</td>\n",
       "      <td>يا بكون بحياتك الأهم يا إما ما بدي أكون 🎼</td>\n",
       "      <td>NOT</td>\n",
       "    </tr>\n",
       "    <tr>\n",
       "      <th>...</th>\n",
       "      <td>...</td>\n",
       "      <td>...</td>\n",
       "      <td>...</td>\n",
       "    </tr>\n",
       "    <tr>\n",
       "      <th>7834</th>\n",
       "      <td>7996</td>\n",
       "      <td>RT @USER: انتو بتوزعوا زيت وسكر فعلا يا عباس؟&lt;...</td>\n",
       "      <td>NOT</td>\n",
       "    </tr>\n",
       "    <tr>\n",
       "      <th>7835</th>\n",
       "      <td>7997</td>\n",
       "      <td>RT @USER: كدا يا عمر متزعلهاش يا حبيبي 😂 URL</td>\n",
       "      <td>NOT</td>\n",
       "    </tr>\n",
       "    <tr>\n",
       "      <th>7836</th>\n",
       "      <td>7998</td>\n",
       "      <td>هدا سكن اطفال امارتين من شارقة طالبين فزعتكم ي...</td>\n",
       "      <td>NOT</td>\n",
       "    </tr>\n",
       "    <tr>\n",
       "      <th>7837</th>\n",
       "      <td>7999</td>\n",
       "      <td>RT @USER: ومدني بمدد من قوتك أواجه به ضعفي.. و...</td>\n",
       "      <td>NOT</td>\n",
       "    </tr>\n",
       "    <tr>\n",
       "      <th>7838</th>\n",
       "      <td>8000</td>\n",
       "      <td>يا سلااااام يا يو خالد انت والطرب الاصيل URL</td>\n",
       "      <td>NOT</td>\n",
       "    </tr>\n",
       "  </tbody>\n",
       "</table>\n",
       "<p>7839 rows × 3 columns</p>\n",
       "</div>"
      ],
      "text/plain": [
       "        id                                              tweet subtask_a\n",
       "0        1  الحمدلله يارب فوز مهم يا زمالك.. كل الدعم ليكم...       NOT\n",
       "1        2            فدوه يا بخت فدوه يا زمن واحد منكم يجيبه       NOT\n",
       "2        3  RT @USER: يا رب يا واحد يا أحد بحق يوم الاحد ا...       OFF\n",
       "3        4  RT @USER: #هوا_الحرية يا وجع قلبي عليكي يا امي...       NOT\n",
       "4        5          يا بكون بحياتك الأهم يا إما ما بدي أكون 🎼       NOT\n",
       "...    ...                                                ...       ...\n",
       "7834  7996  RT @USER: انتو بتوزعوا زيت وسكر فعلا يا عباس؟<...       NOT\n",
       "7835  7997       RT @USER: كدا يا عمر متزعلهاش يا حبيبي 😂 URL       NOT\n",
       "7836  7998  هدا سكن اطفال امارتين من شارقة طالبين فزعتكم ي...       NOT\n",
       "7837  7999  RT @USER: ومدني بمدد من قوتك أواجه به ضعفي.. و...       NOT\n",
       "7838  8000       يا سلااااام يا يو خالد انت والطرب الاصيل URL       NOT\n",
       "\n",
       "[7839 rows x 3 columns]"
      ]
     },
     "execution_count": 25,
     "metadata": {},
     "output_type": "execute_result"
    }
   ],
   "source": [
    "arabic = pd.read_csv(\"data/Arabic/train.tsv\", sep = \"\\t\")\n",
    "arabic"
   ]
  },
  {
   "cell_type": "code",
   "execution_count": 26,
   "id": "62baeaf1",
   "metadata": {},
   "outputs": [
    {
     "data": {
      "text/plain": [
       "(7815,)"
      ]
     },
     "execution_count": 26,
     "metadata": {},
     "output_type": "execute_result"
    }
   ],
   "source": [
    "np.unique(arabic.tweet).shape"
   ]
  },
  {
   "cell_type": "markdown",
   "id": "deaf6577",
   "metadata": {},
   "source": [
    "7,815 out of 7,839 tweets are unique."
   ]
  },
  {
   "cell_type": "code",
   "execution_count": 27,
   "id": "82b55992",
   "metadata": {},
   "outputs": [
    {
     "data": {
      "text/plain": [
       "NOT    6289\n",
       "OFF    1550\n",
       "Name: subtask_a, dtype: int64"
      ]
     },
     "execution_count": 27,
     "metadata": {},
     "output_type": "execute_result"
    }
   ],
   "source": [
    "arabic.subtask_a.value_counts()"
   ]
  },
  {
   "cell_type": "markdown",
   "id": "f9cf43a3",
   "metadata": {},
   "source": [
    "Only 1550/7839 = 19.7% total tweets are labelled offensive."
   ]
  },
  {
   "cell_type": "markdown",
   "id": "0af54d44",
   "metadata": {},
   "source": [
    "## Polish\n",
    "\n",
    "The polish data is in 2 files. One of IDs from Twitter we'd need to use API to pull down and 1 with 0/1 labels."
   ]
  },
  {
   "cell_type": "code",
   "execution_count": 30,
   "id": "58eaa115",
   "metadata": {},
   "outputs": [
    {
     "data": {
      "text/html": [
       "<div>\n",
       "<style scoped>\n",
       "    .dataframe tbody tr th:only-of-type {\n",
       "        vertical-align: middle;\n",
       "    }\n",
       "\n",
       "    .dataframe tbody tr th {\n",
       "        vertical-align: top;\n",
       "    }\n",
       "\n",
       "    .dataframe thead th {\n",
       "        text-align: right;\n",
       "    }\n",
       "</style>\n",
       "<table border=\"1\" class=\"dataframe\">\n",
       "  <thead>\n",
       "    <tr style=\"text-align: right;\">\n",
       "      <th></th>\n",
       "      <th>0</th>\n",
       "    </tr>\n",
       "  </thead>\n",
       "  <tbody>\n",
       "    <tr>\n",
       "      <th>0</th>\n",
       "      <td>0</td>\n",
       "    </tr>\n",
       "    <tr>\n",
       "      <th>1</th>\n",
       "      <td>0</td>\n",
       "    </tr>\n",
       "    <tr>\n",
       "      <th>2</th>\n",
       "      <td>0</td>\n",
       "    </tr>\n",
       "    <tr>\n",
       "      <th>3</th>\n",
       "      <td>0</td>\n",
       "    </tr>\n",
       "    <tr>\n",
       "      <th>4</th>\n",
       "      <td>0</td>\n",
       "    </tr>\n",
       "    <tr>\n",
       "      <th>...</th>\n",
       "      <td>...</td>\n",
       "    </tr>\n",
       "    <tr>\n",
       "      <th>10035</th>\n",
       "      <td>0</td>\n",
       "    </tr>\n",
       "    <tr>\n",
       "      <th>10036</th>\n",
       "      <td>0</td>\n",
       "    </tr>\n",
       "    <tr>\n",
       "      <th>10037</th>\n",
       "      <td>0</td>\n",
       "    </tr>\n",
       "    <tr>\n",
       "      <th>10038</th>\n",
       "      <td>0</td>\n",
       "    </tr>\n",
       "    <tr>\n",
       "      <th>10039</th>\n",
       "      <td>0</td>\n",
       "    </tr>\n",
       "  </tbody>\n",
       "</table>\n",
       "<p>10040 rows × 1 columns</p>\n",
       "</div>"
      ],
      "text/plain": [
       "       0\n",
       "0      0\n",
       "1      0\n",
       "2      0\n",
       "3      0\n",
       "4      0\n",
       "...   ..\n",
       "10035  0\n",
       "10036  0\n",
       "10037  0\n",
       "10038  0\n",
       "10039  0\n",
       "\n",
       "[10040 rows x 1 columns]"
      ]
     },
     "execution_count": 30,
     "metadata": {},
     "output_type": "execute_result"
    }
   ],
   "source": [
    "polish = pd.read_csv(\"data/polish/training_set_clean_only_tags.txt\")\n",
    "polish"
   ]
  },
  {
   "cell_type": "code",
   "execution_count": 31,
   "id": "939ada67",
   "metadata": {},
   "outputs": [
    {
     "data": {
      "text/plain": [
       "0\n",
       "0    9189\n",
       "1     851\n",
       "dtype: int64"
      ]
     },
     "execution_count": 31,
     "metadata": {},
     "output_type": "execute_result"
    }
   ],
   "source": [
    "polish.value_counts()"
   ]
  }
 ],
 "metadata": {
  "kernelspec": {
   "display_name": "Python 3",
   "language": "python",
   "name": "python3"
  },
  "language_info": {
   "codemirror_mode": {
    "name": "ipython",
    "version": 3
   },
   "file_extension": ".py",
   "mimetype": "text/x-python",
   "name": "python",
   "nbconvert_exporter": "python",
   "pygments_lexer": "ipython3",
   "version": "3.8.10"
  }
 },
 "nbformat": 4,
 "nbformat_minor": 5
}
